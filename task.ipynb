{
 "metadata": {
  "language_info": {
   "codemirror_mode": {
    "name": "ipython",
    "version": 3
   },
   "file_extension": ".py",
   "mimetype": "text/x-python",
   "name": "python",
   "nbconvert_exporter": "python",
   "pygments_lexer": "ipython3",
   "version": "3.7.7-final"
  },
  "orig_nbformat": 2,
  "kernelspec": {
   "name": "Python 3.7.7 64-bit ('tensorflow': conda)",
   "display_name": "Python 3.7.7 64-bit ('tensorflow': conda)",
   "metadata": {
    "interpreter": {
     "hash": "f4ebf57e02596103c395cd98441ce50cdaf46ae31f7ddfb22af5107a20672d79"
    }
   }
  }
 },
 "nbformat": 4,
 "nbformat_minor": 2,
 "cells": [
  {
   "source": [
    "# 1. Написать функцию на Python\n",
    "### Напиши функцию, которая удалит дубликаты в списке. Список не отсортирован. Необходимо сохранить порядок сортировки оригинального списка."
   ],
   "cell_type": "markdown",
   "metadata": {}
  },
  {
   "cell_type": "code",
   "execution_count": 3,
   "metadata": {},
   "outputs": [],
   "source": [
    "def duplicates(lst):\n",
    "    #Функция, возвращающая список, без дубликатов\n",
    "    result = [i for n, i in enumerate(lst) if i not in lst[:n]]\n",
    "    return result\n",
    "\n",
    "from random import randint\n",
    "def test_list(start, stop, length):\n",
    "    # Функция для тестирования\n",
    "    test = [randint(start, stop) for i in range(length)]\n",
    "    return test"
   ]
  },
  {
   "source": [
    "### Протестируем функцию"
   ],
   "cell_type": "markdown",
   "metadata": {}
  },
  {
   "cell_type": "code",
   "execution_count": 5,
   "metadata": {},
   "outputs": [
    {
     "output_type": "stream",
     "name": "stdout",
     "text": [
      "Сгенерированный список с дубликатами: [4, 1, 2, 3, 2, 5, 2, 4, 3, 1] \n\nСписок без дубликатов: [4, 1, 2, 3, 5]\n"
     ]
    }
   ],
   "source": [
    "l = test_list(1, 5, 10)\n",
    "print(f'Сгенерированный список с дубликатами: {l}', '\\n')\n",
    "\n",
    "l_1 = duplicates(l)\n",
    "print(f'Список без дубликатов: {l_1}')"
   ]
  },
  {
   "source": [
    "### Какая асимптотическая сложность у этой функций?"
   ],
   "cell_type": "markdown",
   "metadata": {}
  },
  {
   "source": [
    "### Ответ: O(n)"
   ],
   "cell_type": "markdown",
   "metadata": {}
  },
  {
   "source": [
    "# 2. Написать SQL запрос\n",
    "### Напиши запрос, выводящий все отделы, в которых меньше 5 разработчиков (position = 'Software Developer')."
   ],
   "cell_type": "markdown",
   "metadata": {}
  },
  {
   "cell_type": "code",
   "execution_count": null,
   "metadata": {},
   "outputs": [],
   "source": [
    "'''\n",
    "    SELECT department FROM employees\n",
    "    GROUP BY department\n",
    "    HAVING COUNT(position = 'Software Developer') < 5; \n",
    "'''"
   ]
  },
  {
   "source": [
    "# 3. Решить задачу\n",
    "### Подкинули монету N раз. Кол-во случаев, когда выпал орёл, на 10% больше, чем кол-во случаев, когда выпала решка. При каком N мы можем сказать, что монета «нечестная» (орёл и решка выпадают с разной вероятностью)?"
   ],
   "cell_type": "markdown",
   "metadata": {}
  },
  {
   "source": [
    "### Данную задачу можно свести к задаче определения объема выборки, при заданном доверительном интервале и ошибке.\n",
    "### Так как кол-во выпадения орла на 10% больше выпадения решки, получим : $$p_p + p_p*0.1 = 1 - p_p, $$ где, $p_p$ - кол-во выпадений решки.\n",
    "### Таким образом, вероятность выпадения решки:$$p_p * 1.1 +p_p. $$ Следовательно: $$p_p =\\frac{10}{21}$$\n",
    "### Далее. Мы знаем формулу для определения обьема выборки: $$n = (\\frac{Z*\\sqrt{p*(1-p)}}{e})^2,$$ где \n",
    "### Z - величина, определяемая исходя из выбранного доверительного интервала; \n",
    "### e - допустимая ошибка выборочного исследования; \n",
    "### p - истинная долю успехов.\n",
    "### Возьмем доверительный интервал, равный 95%, тогда величина Z будет равна = 1.96; ошибку (е) примем равной 5% => e = 0.05/\n",
    "### Подставим значения в формулу:$$n = (\\frac{1.96*\\sqrt{\\frac{10}{21}*(1-\\frac{10}{21})}}{0.05})^2$$ $$n\\approx 384$$\n",
    "### Ответ: при $n \\approx 384$ мы можем сказать, что монета «нечестная»."
   ],
   "cell_type": "markdown",
   "metadata": {}
  }
 ]
}